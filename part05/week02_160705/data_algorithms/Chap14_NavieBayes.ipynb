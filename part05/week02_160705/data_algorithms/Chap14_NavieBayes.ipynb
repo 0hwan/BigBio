{
 "cells": [
  {
   "cell_type": "markdown",
   "metadata": {},
   "source": [
    "# CHAPTER 14.Naive Bayes  "
   ]
  },
  {
   "cell_type": "markdown",
   "metadata": {},
   "source": [
    "- Naive Bayes classifier(NBC)는 단순하고 효율적인 분류알고리즘.\n",
    "- NBC는 지도학습 방법과 통계적인 분류기( 기초확률과 조건부확률 )를 조합함.\n",
    "- K-Means, k-Nearest Neighbors과 같은 군집화 기술보다 더 많이 사용됨.\n",
    "\n",
    "\n",
    "- Bayes' Theorem과 Mahout를 활용한 스팸 필터링\n",
    "    - http://www.mimul.com/pebble/default/2012/04/03/1333431077222.html\n"
   ]
  },
  {
   "cell_type": "markdown",
   "metadata": {},
   "source": [
    "![](chap14_01.jpg)"
   ]
  },
  {
   "cell_type": "markdown",
   "metadata": {
    "collapsed": true
   },
   "source": [
    "## Training and Learning Examples"
   ]
  },
  {
   "cell_type": "markdown",
   "metadata": {},
   "source": [
    "![](chap14_02.jpg)\n",
    "\n",
    "- (X = (x_1, x_2, ..., x_m))  => 데이터셋은 m개의 속성을 갖음.\n",
    "- 학습 데이터의 사이즈는 n 개\n",
    "- {C_1, C_2, ..., C_k} => k개의 다른 카테고리를 분류\n",
    "- k ≤ n 임."
   ]
  },
  {
   "cell_type": "markdown",
   "metadata": {},
   "source": [
    "### Numeric Training Data\n",
    "\n",
    "![](chap14_03.jpg)\n",
    "\n",
    "Numeric training data 에 대한 설명\n",
    "- Gender 컬럼이 분류 컬럼으로,  k=2 인 분류 클래스 {male, female}이고, C_1 = male, C_2 = female 임.\n",
    "- 이 데이터셋에서는 3개의 속성( m =3, height, weight, foot size )을 갖음.  이 속성값들은 m-차원의 벡터로 표현 : X = (X_1, X_2, ..., X_m)\n",
    "- 학습 데이터의 사이즈는 8 ( n = 8 )임.\n",
    "- 우리의 목표는 학습용 데이터를 이용해서 남, 여를 결정할 수 있는  분류시스템을 만듬. 이 분류는 height, weight, foot size 3가지 속성값을 기반함."
   ]
  },
  {
   "cell_type": "markdown",
   "metadata": {
    "collapsed": true
   },
   "source": [
    "### Symbolic Training Data\n",
    "\n",
    "![](chap14_04.jpg)\n",
    "\n",
    "Symbolic training data에 대한 설명\n",
    "- PlayTennis컬럼이 분류 컬럼으로, k=2 인 분류 클래스 {Yes, No}이고, C_1 = Yes, C_2 = No 임.\n",
    "- 이 데이터셋에서는 4개의 속성( m =4, outlook, temperature, humidity, wind )을 갖음. \n",
    "- 학습 데이터의 사이즈는 14 ( n = 14 )임.\n",
    "- 우리의 목표는 4개의 속성(outlook, temperature, humidity,  windy )을 가지고 Play‐Tennis에 대한 Yes나 No을 분류하는 분류시스템을 만듬.\n",
    "- 입력데이터는 아래와 같음.\n",
    "```\n",
    "X = (X1 = u1, X2=u2, X3=u3, X4=u4)\n",
    "    = (Outlook = Overcast,\n",
    "     Temperature = Hot,\n",
    "     Humidity = High,\n",
    "     Wind = Strong)\n",
    "```\n"
   ]
  },
  {
   "cell_type": "markdown",
   "metadata": {},
   "source": [
    "### Conditional Probability ( 조건부 확률 )\n",
    "\n",
    "- Naive Bayes은 조건부 확률을 기반함.\n",
    "- B 사건이 주어졌을때, A 사건이 발생할 확률을 조건부 확률이라고 하고, 아래와 같이 표시\n",
    "![](chap14_05.jpg)"
   ]
  },
  {
   "cell_type": "markdown",
   "metadata": {},
   "source": [
    "## The Naive Bayes Classifier 에 대한 상세설명"
   ]
  },
  {
   "cell_type": "markdown",
   "metadata": {},
   "source": [
    "- Bayes’s theorem\n",
    "    - 상호 배타적인 사건 {A_1, A_2, ..., A_n} 들의 sequence을 A 라 하자.\n",
    "    - E는 어떤 사건.\n",
    "    - 모든 사건을 0이 아는 확률값을 갖음( P(E) > 0 and P(A_i) > 0 for all i).\n",
    "\n",
    "![](chap14_06.jpg)\n",
    "\n",
    "- Bayes’s theorem을 단순하게 표현하기 위해서, 2개의 사건만으로 하고 각각을 A, B 라고 하자. \n",
    "\n",
    "![](chap14_07.jpg)\n",
    "\n",
    "- 분류를 위한 Bayes’ theorem 전개\n",
    "    - X = (X_1 = u_1, ..., X_m = u_m)을 분류에 필요한 데이터\n",
    "    - C = {C_1, C_2, ..., C_k} 유한개의 클래스\n",
    "    - Bayes’ theorem을 사용해서 X가 주어졌을때, C^predict ε {C_1, C_2, ..., C_k} class을 예측함.\n",
    "\n",
    "![](chap14_08.jpg)\n",
    "- 위에서 P(X_1 = u_1, ..., X_m = u_m) 제거된 이유는 분류 알고리즘에서 모드 계산에서 상수값으로 사용되어 결과에 영향을 주지 않음.\n",
    "- 그러므로, 확률모형으로부터 분류기를 아래와 같이 표현할 수 있음.\n",
    "![](chap14_09.jpg)\n",
    "\n",
    "- 결론\n",
    "    - (X = (x_1, x_2, ..., x_m)) : C = (c_i)  여러가지 패턴을 학습해서  P( x_i : c_k ) 확률을 구하면,  학습데이터에 없는 패턴도  확률을 구할 수 있음."
   ]
  },
  {
   "cell_type": "markdown",
   "metadata": {
    "collapsed": true
   },
   "source": [
    "## Naive Bayes Classifier Example"
   ]
  },
  {
   "cell_type": "markdown",
   "metadata": {},
   "source": [
    "아래와 같이 입력이 주어졌을때, 어떻게 분류되는지 알아보자.\n",
    "```\n",
    "X = (Outlook = Overcast,\n",
    "    Temperature = Hot,\n",
    "    Humidity = High,\n",
    "    Wind = Strong)\n",
    "X = (Overcast, Hot, High, Strong)\n",
    "X = (X1, X2, X3, X4)\n",
    "```\n",
    "\n",
    "- C = (C1, C2) = (Yes, No)\n",
    "- P(C1) = P(Yes) = 9/14\n",
    "- P(C2) = P(No) = 5/14\n",
    "\n",
    "\n",
    "- Bayes classifier를 따르면 아래와 같이 표현함.\n",
    "![](chap14_10.jpg)\n",
    "\n",
    "- 만약 V_1 > V_2 이다면,  입력값 X일때의 분류는 C_1 = Yes이고, 반대이면 C_2 = No임."
   ]
  },
  {
   "cell_type": "markdown",
   "metadata": {},
   "source": [
    "### Calculations of conditional probabilities for C1 = Yes:\n",
    "\n",
    "![](chap14_11.jpg)"
   ]
  },
  {
   "cell_type": "markdown",
   "metadata": {},
   "source": [
    "### Calculations of conditional probabilities for C2 = No:\n",
    "\n",
    "![](chap14_12.jpg)"
   ]
  },
  {
   "cell_type": "markdown",
   "metadata": {
    "collapsed": true
   },
   "source": [
    "## The Naive Bayes Classifier: MapReduce Solution for Symbolic Data"
   ]
  },
  {
   "cell_type": "markdown",
   "metadata": {},
   "source": [
    "### Stage 1: Building a Classifier Using Symbolic Training Data\n",
    "\n",
    "- X = (X_1 = u_1, ..., X_m = u_m) 데이터를 사용해서 P(X_i = u_i|C = C_j)을 계산하자\n",
    "\n",
    "![](chap14_13.jpg)\n",
    "\n",
    "\n",
    "- mapper의 출력\n",
    "```\n",
    "map(Sunny, Hot, High, Weak, No) will generate:\n",
    "    <Sunny,No>, <1>\n",
    "    <Hot,No>, <1>\n",
    "    <High,No>, <1>\n",
    "    <Weak,No>, <1>\n",
    "    <CLASS,No>, <1>\n",
    "map(Sunny, Hot, High, Strong, No) generates:\n",
    "    <Sunny,No>, <1>\n",
    "    <Hot,No>, <1>\n",
    "    <High,No>, <1>\n",
    "```\n",
    "\n",
    "![](chap14_14.jpg)"
   ]
  },
  {
   "cell_type": "markdown",
   "metadata": {
    "collapsed": true
   },
   "source": [
    "![](chap14_15.jpg)\n",
    "\n",
    "![](chap14_16.jpg)"
   ]
  },
  {
   "cell_type": "code",
   "execution_count": null,
   "metadata": {
    "collapsed": true
   },
   "outputs": [],
   "source": []
  }
 ],
 "metadata": {
  "kernelspec": {
   "display_name": "Python 2",
   "language": "python",
   "name": "python2"
  },
  "language_info": {
   "codemirror_mode": {
    "name": "ipython",
    "version": 2
   },
   "file_extension": ".py",
   "mimetype": "text/x-python",
   "name": "python",
   "nbconvert_exporter": "python",
   "pygments_lexer": "ipython2",
   "version": "2.7.11"
  },
  "widgets": {
   "state": {},
   "version": "1.1.2"
  }
 },
 "nbformat": 4,
 "nbformat_minor": 0
}
