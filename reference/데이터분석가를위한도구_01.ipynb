{
 "cells": [
  {
   "cell_type": "markdown",
   "metadata": {},
   "source": [
    "# 데이터 분석가를 위한 도구 01  - Jupyter \n",
    "\n",
    "- 데이터 분석가라면, 당연히 R 또는 Python 같은 분석 언어는 필수이며, 그 이외의 필요한 도구 3가지를 소개함.\n",
    "    - 01 [Jupyter](http://jupyter.org/)는 파이션 또는 R을 웹브라우저에서 인터엑트브하게 실행해 볼 수 있는 환경을 제공함.\n",
    "    - 02 [Docker](http://www.docker.com/)는 분석환경 또는 개발환경을 어디에서나 사용할 수 있도록 만들어 놓은 가상머신으로 한번 만들어 놓고 클라우드 환경 또는 PC에서 동일한 분석환경을 하나의 명령어로 바로 만들 수 있음.    \n",
    "    - 03 [Github](https://github.com/)는 데이터 소스 및 분석 코드를 저장하기 위한 저장소로 활용되며, 분석가뿐만 아니라 오픈 소스 개발자들도 많이 사용함."
   ]
  },
  {
   "cell_type": "markdown",
   "metadata": {
    "collapsed": true
   },
   "source": [
    "## 설치 방법\n",
    "- https://www.continuum.io/downloads  사이트에 들어가서 자신의 PC환경에 맞는 Windows, OS X, Linux용 Anaconda 를 다운받아서 설치함. \n",
    "- 설치 방법은 위의 사이트에 잘 나와 있음.\n",
    "- 윈도우에서는 Anaconda2-4.0.0-Windows-x86_64.exe 파일은 받고 필히 **관리자 권한**으로 실행시킴\n",
    "- Anaconda를 설치가 완료된 후에는 아래 명령어를 명령창에서 실행함.\n",
    "```\n",
    "conda install -c r r-essentials\n",
    "```\n",
    "\n",
    "## 실행방법 \n",
    "- 커맨트창에서 아래와 같이 명령어를 실행시킴.\n",
    "```\n",
    "jupyter notebook\n",
    "```\n",
    "\n",
    "- jupyter.bat 라는 배치파일로 만들어 놓으면 편리함.\n",
    "```\n",
    "d:\n",
    "cd D:/작업디렉토리\n",
    "jupyter notebook\n",
    "```\n"
   ]
  },
  {
   "cell_type": "markdown",
   "metadata": {},
   "source": [
    "## 부록 - Rmarkdown으로 과제물을 작성해보자."
   ]
  },
  {
   "cell_type": "markdown",
   "metadata": {},
   "source": [
    "### 설치\n",
    "- RStudio에서 아래와 같은 명령어로 설치함.\n",
    "```\n",
    "install.packages(\"knitr\")\n",
    "```\n",
    "- 설치가 완료된 후에 RStudio을 꼭 재실행함.\n",
    "- 실행후에 File > New File > R MarkDown 을 선택함."
   ]
  },
  {
   "cell_type": "code",
   "execution_count": null,
   "metadata": {
    "collapsed": true
   },
   "outputs": [],
   "source": []
  }
 ],
 "metadata": {
  "kernelspec": {
   "display_name": "Python 2",
   "language": "python",
   "name": "python2"
  },
  "language_info": {
   "codemirror_mode": {
    "name": "ipython",
    "version": 2
   },
   "file_extension": ".py",
   "mimetype": "text/x-python",
   "name": "python",
   "nbconvert_exporter": "python",
   "pygments_lexer": "ipython2",
   "version": "2.7.11"
  }
 },
 "nbformat": 4,
 "nbformat_minor": 0
}
