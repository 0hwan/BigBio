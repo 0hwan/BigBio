{
 "cells": [
  {
   "cell_type": "markdown",
   "metadata": {},
   "source": [
    "1강 \n",
    "---"
   ]
  },
  {
   "cell_type": "markdown",
   "metadata": {},
   "source": [
    "## 0-0 준비하기\n",
    "### Jupyter 설치\n",
    "- http://jupyter.org/\n",
    "\n",
    "### R 설치\n",
    "- https://www.r-project.org/\n",
    "\n",
    "### Python, R, Juptyer 설치 명령어 모음\n",
    "- [BioPython과Theano설치](https://github.com/biospin/DeepBio/blob/master/part01/Week1_151103/BioPython%EA%B3%BCTheano%EC%84%A4%EC%B9%98.txt)\n",
    "\n",
    "### ipynb -> PDF 변환\n",
    "```\n",
    "source activate bioinformatics\n",
    "conda install nbconvert\n",
    "sudo apt-get install pandoc  -y \n",
    "# sudo apt-get install texlive-full  -y \n",
    "```\n",
    "\n",
    "### PDF 변환시 한글문제 해결\n",
    "- http://wiki.ktug.org/wiki/wiki.php/%EC%84%A4%EC%B9%98%ED%95%98%EA%B8%B0Linux/tlinstall\n",
    "\n",
    "\n",
    "### Native R kernel for Jupyter\n",
    "- https://github.com/IRkernel/IRkernel\n",
    "```\n",
    "sudo apt-get install -y libzmq3 libzmq3-dev -y\n",
    "R  # 시작\n",
    "install.packages(c('rzmq'))\n",
    "install.packages(c('repr', 'IRkernel', 'IRdisplay'), repos = c('http://irkernel.github.io/', getOption('repos')))\n",
    "IRkernel::installspec()\n",
    "q()  # R 종료\n",
    "./biopython_inotebook.sh\n",
    "```"
   ]
  },
  {
   "cell_type": "markdown",
   "metadata": {},
   "source": [
    "## 1-1. Write the logical expression to use to extract girls between 7 and 14 years of age in the juul data set ."
   ]
  },
  {
   "cell_type": "code",
   "execution_count": 4,
   "metadata": {
    "collapsed": false
   },
   "outputs": [
    {
     "name": "stderr",
     "output_type": "stream",
     "text": [
      "Installing package into ‘/home/deepbio/R/x86_64-pc-linux-gnu-library/3.2’\n",
      "(as ‘lib’ is unspecified)\n"
     ]
    },
    {
     "name": "stdout",
     "output_type": "stream",
     "text": [
      "\n",
      "The downloaded source packages are in\n",
      "\t‘/tmp/RtmpqS7CNO/downloaded_packages’\n"
     ]
    }
   ],
   "source": [
    "# ISwR 패키지는 한번만 설치하면 됨.\n",
    "#install.packages(c('ISwR'),  repos=\"http://cran.nexr.com/\"  )"
   ]
  },
  {
   "cell_type": "code",
   "execution_count": 5,
   "metadata": {
    "collapsed": true
   },
   "outputs": [],
   "source": [
    "# ISwR 패키지을 사용하기 위해서 불러옴.\n",
    "library(ISwR)"
   ]
  },
  {
   "cell_type": "code",
   "execution_count": 6,
   "metadata": {
    "collapsed": false
   },
   "outputs": [
    {
     "data": {
      "text/plain": [
       "      age            menarche          sex             igf1      \n",
       " Min.   : 0.170   Min.   :1.000   Min.   :1.000   Min.   : 25.0  \n",
       " 1st Qu.: 9.053   1st Qu.:1.000   1st Qu.:1.000   1st Qu.:202.2  \n",
       " Median :12.560   Median :1.000   Median :2.000   Median :313.5  \n",
       " Mean   :15.095   Mean   :1.476   Mean   :1.534   Mean   :340.2  \n",
       " 3rd Qu.:16.855   3rd Qu.:2.000   3rd Qu.:2.000   3rd Qu.:462.8  \n",
       " Max.   :83.000   Max.   :2.000   Max.   :2.000   Max.   :915.0  \n",
       " NA's   :5        NA's   :635     NA's   :5       NA's   :321    \n",
       "     tanner        testvol      \n",
       " Min.   :1.00   Min.   : 1.000  \n",
       " 1st Qu.:1.00   1st Qu.: 1.000  \n",
       " Median :2.00   Median : 3.000  \n",
       " Mean   :2.64   Mean   : 7.896  \n",
       " 3rd Qu.:5.00   3rd Qu.:15.000  \n",
       " Max.   :5.00   Max.   :30.000  \n",
       " NA's   :240    NA's   :859     "
      ]
     },
     "execution_count": 6,
     "metadata": {},
     "output_type": "execute_result"
    }
   ],
   "source": [
    "# juul 데이터셋의 기초통계량을 확인함.\n",
    "summary( juul )"
   ]
  },
  {
   "cell_type": "code",
   "execution_count": 7,
   "metadata": {
    "collapsed": false
   },
   "outputs": [
    {
     "data": {
      "text/html": [
       "<table>\n",
       "<thead><tr><th></th><th scope=col>age</th><th scope=col>menarche</th><th scope=col>sex</th><th scope=col>igf1</th><th scope=col>tanner</th><th scope=col>testvol</th></tr></thead>\n",
       "<tbody>\n",
       "\t<tr><th scope=row>1</th><td>NA</td><td>NA</td><td>NA</td><td>90</td><td>NA</td><td>NA</td></tr>\n",
       "\t<tr><th scope=row>2</th><td>NA</td><td>NA</td><td>NA</td><td>88</td><td>NA</td><td>NA</td></tr>\n",
       "\t<tr><th scope=row>3</th><td>NA</td><td>NA</td><td>NA</td><td>164</td><td>NA</td><td>NA</td></tr>\n",
       "\t<tr><th scope=row>4</th><td>NA</td><td>NA</td><td>NA</td><td>166</td><td>NA</td><td>NA</td></tr>\n",
       "\t<tr><th scope=row>5</th><td>NA</td><td>NA</td><td>NA</td><td>131</td><td>NA</td><td>NA</td></tr>\n",
       "\t<tr><th scope=row>6</th><td>0.17</td><td>NA</td><td>1</td><td>101</td><td>1</td><td>NA</td></tr>\n",
       "</tbody>\n",
       "</table>\n"
      ],
      "text/latex": [
       "\\begin{tabular}{r|llllll}\n",
       "  & age & menarche & sex & igf1 & tanner & testvol\\\\\n",
       "\\hline\n",
       "\t1 & NA & NA & NA & 90 & NA & NA\\\\\n",
       "\t2 & NA & NA & NA & 88 & NA & NA\\\\\n",
       "\t3 & NA & NA & NA & 164 & NA & NA\\\\\n",
       "\t4 & NA & NA & NA & 166 & NA & NA\\\\\n",
       "\t5 & NA & NA & NA & 131 & NA & NA\\\\\n",
       "\t6 & 0.17 & NA & 1 & 101 & 1 & NA\\\\\n",
       "\\end{tabular}\n"
      ],
      "text/plain": [
       "   age menarche sex igf1 tanner testvol\n",
       "1   NA       NA  NA   90     NA      NA\n",
       "2   NA       NA  NA   88     NA      NA\n",
       "3   NA       NA  NA  164     NA      NA\n",
       "4   NA       NA  NA  166     NA      NA\n",
       "5   NA       NA  NA  131     NA      NA\n",
       "6 0.17       NA   1  101      1      NA"
      ]
     },
     "execution_count": 7,
     "metadata": {},
     "output_type": "execute_result"
    }
   ],
   "source": [
    "head( juul )"
   ]
  },
  {
   "cell_type": "code",
   "execution_count": 25,
   "metadata": {
    "collapsed": false
   },
   "outputs": [
    {
     "data": {
      "text/html": [
       "<table>\n",
       "<thead><tr><th></th><th scope=col>age</th><th scope=col>menarche</th><th scope=col>sex</th><th scope=col>igf1</th><th scope=col>tanner</th><th scope=col>testvol</th></tr></thead>\n",
       "<tbody>\n",
       "\t<tr><th scope=row>6</th><td>0.17</td><td>NA</td><td>1</td><td>101</td><td>1</td><td>NA</td></tr>\n",
       "\t<tr><th scope=row>7</th><td>0.17</td><td>NA</td><td>1</td><td>97</td><td>1</td><td>NA</td></tr>\n",
       "\t<tr><th scope=row>8</th><td>0.17</td><td>NA</td><td>1</td><td>106</td><td>1</td><td>NA</td></tr>\n",
       "\t<tr><th scope=row>9</th><td>0.17</td><td>NA</td><td>1</td><td>111</td><td>1</td><td>NA</td></tr>\n",
       "\t<tr><th scope=row>10</th><td>0.17</td><td>NA</td><td>1</td><td>79</td><td>1</td><td>NA</td></tr>\n",
       "\t<tr><th scope=row>11</th><td>0.17</td><td>NA</td><td>1</td><td>43</td><td>1</td><td>NA</td></tr>\n",
       "</tbody>\n",
       "</table>\n"
      ],
      "text/latex": [
       "\\begin{tabular}{r|llllll}\n",
       "  & age & menarche & sex & igf1 & tanner & testvol\\\\\n",
       "\\hline\n",
       "\t6 & 0.17 & NA & 1 & 101 & 1 & NA\\\\\n",
       "\t7 & 0.17 & NA & 1 & 97 & 1 & NA\\\\\n",
       "\t8 & 0.17 & NA & 1 & 106 & 1 & NA\\\\\n",
       "\t9 & 0.17 & NA & 1 & 111 & 1 & NA\\\\\n",
       "\t10 & 0.17 & NA & 1 & 79 & 1 & NA\\\\\n",
       "\t11 & 0.17 & NA & 1 & 43 & 1 & NA\\\\\n",
       "\\end{tabular}\n"
      ],
      "text/plain": [
       "    age menarche sex igf1 tanner testvol\n",
       "6  0.17       NA   1  101      1      NA\n",
       "7  0.17       NA   1   97      1      NA\n",
       "8  0.17       NA   1  106      1      NA\n",
       "9  0.17       NA   1  111      1      NA\n",
       "10 0.17       NA   1   79      1      NA\n",
       "11 0.17       NA   1   43      1      NA"
      ]
     },
     "execution_count": 25,
     "metadata": {},
     "output_type": "execute_result"
    },
    {
     "data": {
      "text/html": [
       "<table>\n",
       "<thead><tr><th></th><th scope=col>age</th><th scope=col>menarche</th><th scope=col>sex</th><th scope=col>igf1</th><th scope=col>tanner</th><th scope=col>testvol</th></tr></thead>\n",
       "<tbody>\n",
       "\t<tr><th scope=row>373</th><td>14.03</td><td>NA</td><td>1</td><td>NA</td><td>3</td><td>8</td></tr>\n",
       "\t<tr><th scope=row>374</th><td>14.04</td><td>NA</td><td>1</td><td>435</td><td>5</td><td>12</td></tr>\n",
       "\t<tr><th scope=row>375</th><td>14.08</td><td>NA</td><td>1</td><td>348</td><td>2</td><td>8</td></tr>\n",
       "\t<tr><th scope=row>376</th><td>14.11</td><td>NA</td><td>1</td><td>653</td><td>2</td><td>12</td></tr>\n",
       "\t<tr><th scope=row>377</th><td>14.15</td><td>NA</td><td>1</td><td>288</td><td>2</td><td>8</td></tr>\n",
       "\t<tr><th scope=row>378</th><td>14.16</td><td>NA</td><td>1</td><td>453</td><td>5</td><td>22</td></tr>\n",
       "</tbody>\n",
       "</table>\n"
      ],
      "text/latex": [
       "\\begin{tabular}{r|llllll}\n",
       "  & age & menarche & sex & igf1 & tanner & testvol\\\\\n",
       "\\hline\n",
       "\t373 & 14.03 & NA & 1 & NA & 3 & 8\\\\\n",
       "\t374 & 14.04 & NA & 1 & 435 & 5 & 12\\\\\n",
       "\t375 & 14.08 & NA & 1 & 348 & 2 & 8\\\\\n",
       "\t376 & 14.11 & NA & 1 & 653 & 2 & 12\\\\\n",
       "\t377 & 14.15 & NA & 1 & 288 & 2 & 8\\\\\n",
       "\t378 & 14.16 & NA & 1 & 453 & 5 & 22\\\\\n",
       "\\end{tabular}\n"
      ],
      "text/plain": [
       "      age menarche sex igf1 tanner testvol\n",
       "373 14.03       NA   1   NA      3       8\n",
       "374 14.04       NA   1  435      5      12\n",
       "375 14.08       NA   1  348      2       8\n",
       "376 14.11       NA   1  653      2      12\n",
       "377 14.15       NA   1  288      2       8\n",
       "378 14.16       NA   1  453      5      22"
      ]
     },
     "execution_count": 25,
     "metadata": {},
     "output_type": "execute_result"
    }
   ],
   "source": [
    "# age에 결측치가 있는 데이터는 제거함.\n",
    "juul_na <- juul[  is.na(juul$age)==FALSE    ,   ]\n",
    "# 14부터 17세 까지의 데이터를 추출함.\n",
    "juul_14_17 <- juul_na[  juul_na$age >= 14  &   juul_na$age <= 17     ,   ]\n",
    "head( juul_14_17  )"
   ]
  },
  {
   "cell_type": "code",
   "execution_count": null,
   "metadata": {
    "collapsed": true
   },
   "outputs": [],
   "source": []
  }
 ],
 "metadata": {
  "kernelspec": {
   "display_name": "R",
   "language": "R",
   "name": "ir"
  },
  "language_info": {
   "codemirror_mode": "r",
   "file_extension": ".r",
   "mimetype": "text/x-r-source",
   "name": "R",
   "pygments_lexer": "r",
   "version": "3.2.2"
  }
 },
 "nbformat": 4,
 "nbformat_minor": 0
}
